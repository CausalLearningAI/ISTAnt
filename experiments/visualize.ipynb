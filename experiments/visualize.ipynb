{
 "cells": [
  {
   "cell_type": "markdown",
   "metadata": {},
   "source": [
    "## TODO: Some Visualizations "
   ]
  },
  {
   "cell_type": "code",
   "execution_count": null,
   "metadata": {},
   "outputs": [],
   "source": [
    "import matplotlib.pyplot as plt\n",
    "import sys\n",
    "import numpy as np\n",
    "import pandas as pd\n",
    "sys.path.append('./src')\n",
    "import warnings\n",
    "warnings.filterwarnings(\"ignore\")\n",
    "\n",
    "from data import PPCI"
   ]
  },
  {
   "cell_type": "code",
   "execution_count": null,
   "metadata": {},
   "outputs": [],
   "source": [
    "# load dataset\n",
    "encoder = \"dino\"\n",
    "dataset = PPCI(encoder = encoder,\n",
    "               token = \"class\",\n",
    "               task = \"or\",\n",
    "               split_criteria = \"position_easy\",\n",
    "               environment = \"supervised\",\n",
    "               batch_size = 64,\n",
    "               num_proc = 4,\n",
    "               verbose = True,\n",
    "               data_dir = 'data/istant_hq',\n",
    "               results_dir = f'results/istant_hq/{encoder}')"
   ]
  },
  {
   "cell_type": "code",
   "execution_count": null,
   "metadata": {},
   "outputs": [],
   "source": [
    "exp = 0\n",
    "pos = 6\n",
    "frame = 720\n",
    "\n",
    "frame_id = ((dataset.supervised[\"source_data\"][\"experiment\"] == exp) & (dataset.supervised[\"source_data\"][\"position\"] == pos) & (dataset.supervised[\"source_data\"][\"frame\"] == frame)).nonzero(as_tuple=True)[0][0].item()\n",
    "img = dataset.supervised[\"source_data\"][frame_id][\"image\"] # shape 3, 770, 770\n",
    "print(dataset.supervised[\"W\"][frame])\n",
    "print(dataset.supervised[\"Y\"][frame])\n",
    "# remove ticks\n",
    "plt.axis('off')\n",
    "plt.imshow(img.permute(1, 2, 0));"
   ]
  },
  {
   "cell_type": "code",
   "execution_count": null,
   "metadata": {},
   "outputs": [],
   "source": [
    "exp = 0\n",
    "pos = 6\n",
    "frame = 450\n",
    "\n",
    "frame_id = ((dataset.supervised[\"source_data\"][\"experiment\"] == exp) & (dataset.supervised[\"source_data\"][\"position\"] == pos) & (dataset.supervised[\"source_data\"][\"frame\"] == frame)).nonzero(as_tuple=True)[0][0].item()\n",
    "img1 = dataset.supervised[\"source_data\"][frame_id][\"image\"] # shape 3, 770, 770\n",
    "print(dataset.supervised[\"Y\"][frame_id])\n",
    "\n",
    "exp = 0\n",
    "pos = 6\n",
    "frame = 720\n",
    "\n",
    "frame_id = ((dataset.supervised[\"source_data\"][\"experiment\"] == exp) & (dataset.supervised[\"source_data\"][\"position\"] == pos) & (dataset.supervised[\"source_data\"][\"frame\"] == frame)).nonzero(as_tuple=True)[0][0].item()\n",
    "img2 = dataset.supervised[\"source_data\"][frame_id][\"image\"] # shape 3, 770, 770\n",
    "print(dataset.supervised[\"Y\"][frame_id])\n",
    "\n",
    "# plot the 2 images\n",
    "fig, ax = plt.subplots(1, 2)\n",
    "ax[0].imshow(img1.permute(1, 2, 0))\n",
    "ax[1].imshow(img2.permute(1, 2, 0))\n",
    "# remove ticks\n",
    "for a in ax:\n",
    "    a.set_xticks([])\n",
    "    a.set_yticks([])\n",
    "# attach the plot closer\n",
    "plt.show()"
   ]
  },
  {
   "cell_type": "markdown",
   "metadata": {},
   "source": [
    "## Post-Processing"
   ]
  },
  {
   "cell_type": "code",
   "execution_count": null,
   "metadata": {},
   "outputs": [],
   "source": [
    "exp = (dataset.supervised[\"source_data\"][\"experiment\"]==4)\n",
    "pos = (dataset.supervised[\"source_data\"][\"position\"]==1)\n",
    "filter = (exp & pos).nonzero().squeeze()\n",
    "y = dataset.supervised[\"Y\"][filter][:,0].detach()\n",
    "y_hat = dataset.supervised[\"Y_hat\"][filter][:,0].detach()\n",
    "y_pred = y_hat.round()\n",
    "\n",
    "plt.scatter(range(len(filter)), y_hat, s=1, c=\"blue\", alpha=0.5, label=\"y_probs\")\n",
    "plt.scatter(range(len(filter)),y_pred-(-1)**y_pred.detach()*0.04, s=1, c=\"red\", alpha=0.5, label=\"y_pred\")\n",
    "plt.scatter(range(len(filter)), y-(-1)**y.detach()*0.02, s=1, c=\"green\", alpha=0.5, label=\"y\")\n",
    "plt.legend()\n",
    "plt.show()"
   ]
  },
  {
   "cell_type": "code",
   "execution_count": null,
   "metadata": {},
   "outputs": [],
   "source": [
    "frame = (dataset.supervised[\"source_data\"][\"frame\"]==2220)\n",
    "idx = (exp & pos & frame).nonzero().item()\n",
    "img = dataset.supervised[\"source_data\"][idx][\"image\"]\n",
    "outcome = dataset.supervised[\"source_data\"][idx][\"outcome\"]\n",
    "\n",
    "img = img.permute(1, 2, 0)\n",
    "plt.title(f\"Y2F: {int(outcome[0])}, B2F: {int(outcome[1])}\")\n",
    "plt.imshow(img);"
   ]
  }
 ],
 "metadata": {
  "language_info": {
   "name": "python"
  }
 },
 "nbformat": 4,
 "nbformat_minor": 2
}
