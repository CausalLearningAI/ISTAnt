{
 "cells": [
  {
   "cell_type": "code",
   "execution_count": null,
   "metadata": {},
   "outputs": [],
   "source": [
    "import pandas as pd\n",
    "import matplotlib.pyplot as plt\n",
    "\n",
    "import sys\n",
    "sys.path.append('./src')\n",
    "import warnings\n",
    "warnings.filterwarnings(\"ignore\")\n",
    "\n",
    "from data import PPCI"
   ]
  },
  {
   "cell_type": "markdown",
   "metadata": {},
   "source": [
    "# Results\n",
    "\n",
    "- **Encoder**: clip, clip_large, dino, mae, vit, vit_large\n",
    "- **Token**: class, mean, all\n",
    "- **Splitting criteria**: experiment, experiment_easy, position, position_easy, random, random_easy\n",
    "- **Task**: all, or\n",
    "- **Hidden Layers**: 1, 2\n",
    "- **Learning Rate**: 0.1, 0.01, 0.001\n",
    "- **Seed** = 0, 1, 2, 3, 4"
   ]
  },
  {
   "cell_type": "code",
   "execution_count": null,
   "metadata": {},
   "outputs": [],
   "source": [
    "results = pd.read_csv(\"/nfs/scistore19/locatgrp/rcadei/ISTAnt/results/istant_lq/experiments_result.csv\", index_col=0)\n",
    "results[results.train == False]\n",
    "\n",
    "# results = results.dropna()\n",
    "# results = results.set_index([\"encoder\", \"token\", \"task\", \"lr\", \"seed\"])\n",
    "# results = results.groupby([\"encoder\", \"token\",\"task\", \"lr\"]).mean()\n",
    "# results = results.sort_values(\"val_accuracy\", ascending=False)\n",
    "# results = results.xs(\"all\", level=\"task\")\n",
    "# results.head(20)"
   ]
  },
  {
   "cell_type": "code",
   "execution_count": null,
   "metadata": {},
   "outputs": [],
   "source": [
    "dataset = PPCI(verbose=True,\n",
    "               encoder = \"clip\",\n",
    "               token = \"class\",\n",
    "               task = \"all\",\n",
    "               environment = \"supervised\")\n",
    "dataset.plot_out_distribution()\n",
    "dataset.train(verbose=True,   \n",
    "              add_pred_env=\"supervised\", \n",
    "              num_epochs=2)\n",
    "dataset.visualize(k=8,\n",
    "                  save=True)\n",
    "result_tr_y = dataset.evaluate(color=\"yellow\", train=True, verbose=False)\n",
    "result_tr_b = dataset.evaluate(color=\"blue\", train=True, verbose=False)\n",
    "result_val_y = dataset.evaluate(color=\"yellow\", train=False, verbose=False)\n",
    "result_val_b = dataset.evaluate(color=\"blue\", train=False, verbose=False)"
   ]
  },
  {
   "cell_type": "code",
   "execution_count": null,
   "metadata": {},
   "outputs": [],
   "source": [
    "# dataset = PPCI()\n",
    "# dataset.plot_out_distribution()\n",
    "# dataset.train()\n",
    "# dataset.visualize()\n",
    "# dataset.evaluate()"
   ]
  },
  {
   "cell_type": "markdown",
   "metadata": {},
   "source": [
    "## Post-Processing"
   ]
  },
  {
   "cell_type": "code",
   "execution_count": null,
   "metadata": {},
   "outputs": [],
   "source": [
    "exp = (dataset.supervised[\"source_data\"][\"experiment\"]==4)\n",
    "pos = (dataset.supervised[\"source_data\"][\"position\"]==1)\n",
    "filter = (exp & pos).nonzero().squeeze()\n",
    "y = dataset.supervised[\"Y\"][filter][:,0].detach()\n",
    "y_hat = dataset.supervised[\"Y_hat\"][filter][:,0].detach()\n",
    "y_pred = y_hat.round()\n",
    "\n",
    "plt.scatter(range(len(filter)), y_hat, s=1, c=\"blue\", alpha=0.5, label=\"y_probs\")\n",
    "plt.scatter(range(len(filter)),y_pred-(-1)**y_pred.detach()*0.04, s=1, c=\"red\", alpha=0.5, label=\"y_pred\")\n",
    "plt.scatter(range(len(filter)), y-(-1)**y.detach()*0.02, s=1, c=\"green\", alpha=0.5, label=\"y\")\n",
    "plt.legend()\n",
    "plt.show()"
   ]
  },
  {
   "cell_type": "code",
   "execution_count": null,
   "metadata": {},
   "outputs": [],
   "source": [
    "frame = (dataset.supervised[\"source_data\"][\"frame\"]==2220)\n",
    "idx = (exp & pos & frame).nonzero().item()\n",
    "img = dataset.supervised[\"source_data\"][idx][\"image\"]\n",
    "outcome = dataset.supervised[\"source_data\"][idx][\"outcome\"]\n",
    "\n",
    "img = img.permute(1, 2, 0)\n",
    "plt.title(f\"Y2F: {int(outcome[0])}, B2F: {int(outcome[1])}\")\n",
    "plt.imshow(img);"
   ]
  }
 ],
 "metadata": {
  "kernelspec": {
   "display_name": "crl",
   "language": "python",
   "name": "python3"
  },
  "language_info": {
   "codemirror_mode": {
    "name": "ipython",
    "version": 3
   },
   "file_extension": ".py",
   "mimetype": "text/x-python",
   "name": "python",
   "nbconvert_exporter": "python",
   "pygments_lexer": "ipython3",
   "version": "3.11.5"
  }
 },
 "nbformat": 4,
 "nbformat_minor": 2
}
