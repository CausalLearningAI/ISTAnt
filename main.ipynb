{
 "cells": [
  {
   "cell_type": "code",
   "execution_count": null,
   "metadata": {},
   "outputs": [],
   "source": [
    "import torch\n",
    "import matplotlib.pyplot as plt\n",
    "#from datasets import concatenate_datasets\n",
    "\n",
    "import sys\n",
    "sys.path.append('./src')\n",
    "\n",
    "from data import load_data, get_data_sl\n",
    "from visualize import plot_outcome_distribution\n",
    "from model import get_model\n",
    "from causal import compute_ead"
   ]
  },
  {
   "cell_type": "markdown",
   "metadata": {},
   "source": [
    "## Load Data"
   ]
  },
  {
   "cell_type": "code",
   "execution_count": null,
   "metadata": {},
   "outputs": [],
   "source": [
    "supervised = load_data(environment='supervised')\n",
    "unsupervised = load_data(environment='unsupervised')"
   ]
  },
  {
   "cell_type": "markdown",
   "metadata": {},
   "source": [
    "### Sanity Check"
   ]
  },
  {
   "cell_type": "code",
   "execution_count": null,
   "metadata": {},
   "outputs": [],
   "source": [
    "encoder_name = \"vit\"\n",
    "processor, model = get_model(encoder_name)"
   ]
  },
  {
   "cell_type": "code",
   "execution_count": null,
   "metadata": {},
   "outputs": [],
   "source": [
    "idx = 15000\n",
    "img = supervised[idx]['image']\n",
    "outcome = supervised[idx]['outcome']\n",
    "inputs = processor(images=img, return_tensors=\"pt\")\n",
    "outputs = model(**inputs)\n",
    "logits = outputs.logits\n",
    "print(\"Top 5 predicted labels with associated probabilities:\")\n",
    "top_5 = torch.topk(logits, 5)\n",
    "probs = logits.softmax(-1)[0][top_5.indices][0]\n",
    "for i, (idx, prob) in enumerate(zip(top_5.indices[0], probs), 1):\n",
    "    print(f\"    {i}. {model.config.id2label[idx.item()]}: {prob.item():.2%}\")\n",
    "\n",
    "img = img.permute(1, 2, 0)\n",
    "plt.title(f\"Y2F: {int(outcome[0])}, B2F: {int(outcome[1])}\")\n",
    "plt.imshow(img);"
   ]
  },
  {
   "cell_type": "code",
   "execution_count": null,
   "metadata": {},
   "outputs": [],
   "source": [
    "inputs = processor(images=img, return_tensors=\"pt\")\n",
    "outputs = model(**inputs, output_hidden_states=True)\n",
    "outputs.hidden_states[-1][:,0].shape\n",
    "# outputs.hidden_states[-1].mean(dim=[2,3]).shape"
   ]
  },
  {
   "cell_type": "markdown",
   "metadata": {},
   "source": [
    "## Supervised Learning"
   ]
  },
  {
   "cell_type": "code",
   "execution_count": null,
   "metadata": {},
   "outputs": [],
   "source": [
    "from sklearn.model_selection import train_test_split\n",
    "\n",
    "X, y, _ = get_data_sl(environment=\"supervised\", encoder_name=\"dino\")\n",
    "X_train, X_val, y_train, y_val = train_test_split(X, y, test_size=0.2, random_state=42, shuffle=False)"
   ]
  },
  {
   "cell_type": "code",
   "execution_count": null,
   "metadata": {},
   "outputs": [],
   "source": [
    "from sklearn.linear_model import LogisticRegression\n",
    "from sklearn.metrics import classification_report\n",
    "\n",
    "outcome_idx = 0\n",
    "\n",
    "model = LogisticRegression(solver='liblinear', max_iter=10) \n",
    "model.fit(X_train, y_train[:,outcome_idx])\n",
    "\n",
    "y_train_pred = model.predict(X_train)  \n",
    "y_val_pred = model.predict(X_val)  \n",
    "print(classification_report(y_train[:,outcome_idx], y_train_pred))\n",
    "print(classification_report(y_val[:,outcome_idx], y_val_pred))"
   ]
  },
  {
   "cell_type": "code",
   "execution_count": null,
   "metadata": {},
   "outputs": [],
   "source": [
    "import svmutil  \n",
    "from sklearn.metrics import classification_report\n",
    "\n",
    "outcome_idx = 0\n",
    "\n",
    "prob = svmutil.svm_problem(y[:, otcome_idx], X)\n",
    "param = svmutil.svm_parameter('-s 0 -t 2 -c 1 -g 0.1')  \n",
    "model = svmutil.svm_train(prob, param) \n",
    "\n",
    "y_pred = model.predict(X)  \n",
    "print(classification_report(y[:,outcome_idx], y_pred))"
   ]
  },
  {
   "cell_type": "code",
   "execution_count": null,
   "metadata": {},
   "outputs": [],
   "source": [
    "import matplotlib.pyplot as plt\n",
    "\n",
    "id_1s = (torch.Tensor(y_pred) == 1).nonzero(as_tuple=True)[0]#[0]\n",
    "id_1 = id_1s[0].item()\n",
    "\n",
    "train = load_data(environment='train')\n",
    "example = train[id_1][\"image\"]\n",
    "\n",
    "img = example.numpy().transpose(1, 2, 0)\n",
    "plt.imshow(img)\n",
    "plt.show()"
   ]
  },
  {
   "cell_type": "markdown",
   "metadata": {},
   "source": [
    "## Causal Inference"
   ]
  },
  {
   "cell_type": "code",
   "execution_count": null,
   "metadata": {},
   "outputs": [],
   "source": [
    "plot_outcome_distribution(train, save=True)"
   ]
  },
  {
   "cell_type": "code",
   "execution_count": null,
   "metadata": {},
   "outputs": [],
   "source": [
    "rct = train #concatenate_datasets([train, test])\n",
    "Y = rct[\"outcome\"]\n",
    "T = rct[\"treatment\"]\n",
    "\n",
    "EAD_B_y, EAD_inf_y = compute_ead(Y, T, color=\"Yellow\")   \n",
    "EAD_B_b, EAD_inf_b = compute_ead(Y, T, color=\"Blue\")   "
   ]
  }
 ],
 "metadata": {
  "kernelspec": {
   "display_name": "crl",
   "language": "python",
   "name": "python3"
  },
  "language_info": {
   "codemirror_mode": {
    "name": "ipython",
    "version": 3
   },
   "file_extension": ".py",
   "mimetype": "text/x-python",
   "name": "python",
   "nbconvert_exporter": "python",
   "pygments_lexer": "ipython3",
   "version": "3.11.5"
  }
 },
 "nbformat": 4,
 "nbformat_minor": 2
}
