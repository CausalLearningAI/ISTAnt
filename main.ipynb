{
 "cells": [
  {
   "cell_type": "code",
   "execution_count": null,
   "metadata": {},
   "outputs": [],
   "source": [
    "import torch\n",
    "\n",
    "import sys\n",
    "sys.path.append('./src')\n",
    "\n",
    "from data import load_data, get_data_sl\n",
    "from visualize import plot_outcome_distribution\n",
    "from model import get_model"
   ]
  },
  {
   "cell_type": "markdown",
   "metadata": {},
   "source": [
    "## Load Data"
   ]
  },
  {
   "cell_type": "code",
   "execution_count": null,
   "metadata": {},
   "outputs": [],
   "source": [
    "train = load_data(environment='train')\n",
    "test = load_data(environment='test')"
   ]
  },
  {
   "cell_type": "markdown",
   "metadata": {},
   "source": [
    "### Sanity Check"
   ]
  },
  {
   "cell_type": "code",
   "execution_count": null,
   "metadata": {},
   "outputs": [],
   "source": [
    "model_name = \"vit\"\n",
    "processor, model = get_model(model_name)"
   ]
  },
  {
   "cell_type": "code",
   "execution_count": null,
   "metadata": {},
   "outputs": [],
   "source": [
    "inputs = processor(images=train[0]['image'], return_tensors=\"pt\")\n",
    "outputs = model(**inputs)\n",
    "logits = outputs.logits\n",
    "print(\"Top 5 predicted labels with associated probabilities:\")\n",
    "top_5 = torch.topk(logits, 5)\n",
    "probs = logits.softmax(-1)[0][top_5.indices][0]\n",
    "for i, (idx, prob) in enumerate(zip(top_5.indices[0], probs), 1):\n",
    "    print(f\"    {i}. {model.config.id2label[idx.item()]}: {prob.item():.2%}\")"
   ]
  },
  {
   "cell_type": "code",
   "execution_count": null,
   "metadata": {},
   "outputs": [],
   "source": [
    "inputs = processor(images=train[0]['image'], return_tensors=\"pt\")\n",
    "outputs = model(**inputs, output_hidden_states=True)\n",
    "outputs.hidden_states[-1][:,0].shape\n",
    "# outputs.hidden_states[-1].mean(dim=[2,3]).shape"
   ]
  },
  {
   "cell_type": "code",
   "execution_count": null,
   "metadata": {},
   "outputs": [],
   "source": [
    "test[\"outcome\"].sum()"
   ]
  },
  {
   "cell_type": "markdown",
   "metadata": {},
   "source": [
    "## Supervised Learning"
   ]
  },
  {
   "cell_type": "code",
   "execution_count": null,
   "metadata": {},
   "outputs": [],
   "source": [
    "X, y = get_data_sl(environment=\"train\", model_name=\"dino\")"
   ]
  },
  {
   "cell_type": "code",
   "execution_count": null,
   "metadata": {},
   "outputs": [],
   "source": [
    "from sklearn.linear_model import LogisticRegression\n",
    "from sklearn.metrics import classification_report\n",
    "\n",
    "outcome_idx = 0\n",
    "\n",
    "model = LogisticRegression(solver='liblinear', max_iter=10) \n",
    "model.fit(X, y[:,outcome_idx])\n",
    "\n",
    "y_pred = model.predict(X)  \n",
    "print(classification_report(y[:,outcome_idx], y_pred))"
   ]
  },
  {
   "cell_type": "code",
   "execution_count": null,
   "metadata": {},
   "outputs": [],
   "source": [
    "import matplotlib.pyplot as plt\n",
    "\n",
    "id_1s = (torch.Tensor(y_pred) == 1).nonzero(as_tuple=True)[0]#[0]\n",
    "id_1 = id_1s[0].item()\n",
    "\n",
    "train = load_data(environment='train')\n",
    "example = train[id_1][\"image\"]\n",
    "\n",
    "img = example.numpy().transpose(1, 2, 0)\n",
    "plt.imshow(img)\n",
    "plt.show()"
   ]
  },
  {
   "cell_type": "markdown",
   "metadata": {},
   "source": [
    "## Causal Inference"
   ]
  },
  {
   "cell_type": "code",
   "execution_count": null,
   "metadata": {},
   "outputs": [],
   "source": [
    "plot_outcome_distribution(train, save=True)"
   ]
  },
  {
   "cell_type": "code",
   "execution_count": null,
   "metadata": {},
   "outputs": [],
   "source": [
    "rct = train #concatenate_datasets([train, test])\n",
    "Y_y = rct[\"outcome\"][:,0]\n",
    "Y_b = rct[\"outcome\"][:,1]\n",
    "T = rct[\"treatment\"]\n",
    "\n",
    "# compute associational difference\n",
    "rct = concatenate_datasets([train, test])\n",
    "Y_y = rct[\"outcome\"][:,0]\n",
    "Y_b = rct[\"outcome\"][:,1]\n",
    "T = rct[\"treatment\"]\n",
    "\n",
    "# compute associational difference E[Y|T=1] - E[Y|T=0]\n",
    "print(\"Grooming: Yellow to Focal\")\n",
    "E_Y_y_t0 = Y_y[T==0].mean()\n",
    "E_Y_y_t1 = Y_y[T==1].mean()\n",
    "E_Y_y_t2 = Y_y[T==2].mean()\n",
    "ATE_B = E_Y_y_t1 - E_Y_y_t0\n",
    "print(f\"ATE_B: {ATE_B*100:.2f}%\")\n",
    "ATE_inf = E_Y_y_t2 - E_Y_y_t0\n",
    "print(f\"ATE_inf: {ATE_inf*100:.2f}%\")\n",
    "\n",
    "# compute associational difference E[Y|B=1] - E[Y|B=0]\n",
    "print(\"Grooming: Blue to Focal\")\n",
    "E_Y_b_t0 = Y_b[T==0].mean()\n",
    "E_Y_b_t1 = Y_b[T==1].mean()\n",
    "E_Y_b_t2 = Y_b[T==2].mean()\n",
    "ATE_B = E_Y_b_t1 - E_Y_b_t0\n",
    "print(f\"ATE_B: {ATE_B*100:.2f}%\")\n",
    "ATE_inf = E_Y_b_t2 - E_Y_b_t0\n",
    "print(f\"ATE_inf: {ATE_inf*100:.2f}%\")\n"
   ]
  }
 ],
 "metadata": {
  "kernelspec": {
   "display_name": "crl",
   "language": "python",
   "name": "python3"
  },
  "language_info": {
   "codemirror_mode": {
    "name": "ipython",
    "version": 3
   },
   "file_extension": ".py",
   "mimetype": "text/x-python",
   "name": "python",
   "nbconvert_exporter": "python",
   "pygments_lexer": "ipython3",
   "version": "3.9.2"
  }
 },
 "nbformat": 4,
 "nbformat_minor": 2
}
