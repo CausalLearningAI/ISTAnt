{
 "cells": [
  {
   "cell_type": "code",
   "execution_count": 1,
   "metadata": {},
   "outputs": [],
   "source": [
    "import sys\n",
    "sys.path.append('./src')\n",
    "import warnings\n",
    "warnings.filterwarnings(\"ignore\")\n",
    "\n",
    "from data import PPCI"
   ]
  },
  {
   "cell_type": "code",
   "execution_count": 2,
   "metadata": {},
   "outputs": [
    {
     "name": "stdout",
     "output_type": "stream",
     "text": [
      "Embeddings from encoder 'dino' token 'class' already extracted for the supervised environment.\n",
      "Training Environments:  [ 0  1  2  3  4  5  6  7  8  9 10 12 13 14 15 16 17 18 19 20 21 22 23 24\n",
      " 25 26 27 28 29 30 31 32 33 34 40 41 42 43 44]\n",
      "Validation Environments:  [35 36 37 38 39]\n",
      "Prediction-Powered Causal Inference dataset successfully loaded.\n"
     ]
    }
   ],
   "source": [
    "# load dataset\n",
    "encoder = \"dino\"\n",
    "dataset = PPCI(encoder = encoder,\n",
    "               token = \"class\",\n",
    "               task = \"or\",\n",
    "               split_criteria = \"position_easy\",\n",
    "               environment = \"supervised\",\n",
    "               batch_size = 64,\n",
    "               num_proc = 4,\n",
    "               verbose = True,\n",
    "               data_dir = 'data/istant_hq',\n",
    "               results_dir = f'results/istant_hq/{encoder}')"
   ]
  },
  {
   "cell_type": "code",
   "execution_count": 3,
   "metadata": {},
   "outputs": [
    {
     "name": "stdout",
     "output_type": "stream",
     "text": [
      "Device: cuda\n",
      "Train Heterogenous, IC Weight: 0\n",
      "Starting perfomances\n",
      "  train:  Accuracy=0.778, Balanced Accuracy=0.500,  Precision=0.353, Recall=0.002\n",
      "  val:  Accuracy=0.768, Balanced Accuracy=0.509,  Precision=0.778, Recall=0.020\n",
      "Epoch 1 (train loss: 61.969)\n",
      "  train:  Accuracy=0.331, Balanced Accuracy=0.570,  Precision=0.249, Recall=1.000\n",
      "  val:  Accuracy=0.407, Balanced Accuracy=0.611,  Precision=0.284, Recall=0.999\n",
      "Epoch 2 (train loss: 30.412)\n",
      "  train:  Accuracy=0.699, Balanced Accuracy=0.796,  Precision=0.423, Recall=0.969\n",
      "  val:  Accuracy=0.772, Balanced Accuracy=0.835,  Precision=0.508, Recall=0.955\n",
      "Epoch 3 (train loss: 23.186)\n",
      "  train:  Accuracy=0.816, Balanced Accuracy=0.860,  Precision=0.549, Recall=0.941\n",
      "  val:  Accuracy=0.848, Balanced Accuracy=0.865,  Precision=0.623, Recall=0.897\n",
      "Epoch 4 (train loss: 19.198)\n",
      "  train:  Accuracy=0.885, Balanced Accuracy=0.887,  Precision=0.685, Recall=0.891\n",
      "  val:  Accuracy=0.880, Balanced Accuracy=0.850,  Precision=0.723, Recall=0.794\n",
      "Epoch 5 (train loss: 16.227)\n",
      "  train:  Accuracy=0.892, Balanced Accuracy=0.906,  Precision=0.690, Recall=0.932\n",
      "  val:  Accuracy=0.884, Balanced Accuracy=0.859,  Precision=0.728, Recall=0.812\n"
     ]
    },
    {
     "data": {
      "text/plain": [
       "{'loss_val': 1.2698743343353271,\n",
       " 'inv_loss_val': 0.16922955418360658,\n",
       " 'acc_val': 0.8479999899864197,\n",
       " 'bacc_val': 0.864840030670166,\n",
       " 'TEB_val': 3242.785799920211,\n",
       " 'acc': 0.8193181753158569,\n",
       " 'bacc': 0.8606929183006287,\n",
       " 'TEB': -0.02760230004787445,\n",
       " 'TEB_bin': -0.024562492966651917,\n",
       " 'EAD': 0.062312498688697815}"
      ]
     },
     "execution_count": 3,
     "metadata": {},
     "output_type": "execute_result"
    }
   ],
   "source": [
    "# example train\n",
    "dataset.train(add_pred_env=\"supervised\", \n",
    "            hidden_layers = 1,\n",
    "            hidden_nodes = 256,\n",
    "            batch_size = 128,\n",
    "            lr = 0.0005,\n",
    "            num_epochs=5,\n",
    "            save = False,\n",
    "            verbose=True,\n",
    "            multidomain=True,\n",
    "            ic_weight=0,\n",
    "            seed=1)\n",
    "dataset.evaluate(color=None, verbose=False)"
   ]
  }
 ],
 "metadata": {
  "kernelspec": {
   "display_name": "crl",
   "language": "python",
   "name": "python3"
  },
  "language_info": {
   "codemirror_mode": {
    "name": "ipython",
    "version": 3
   },
   "file_extension": ".py",
   "mimetype": "text/x-python",
   "name": "python",
   "nbconvert_exporter": "python",
   "pygments_lexer": "ipython3",
   "version": "3.11.5"
  }
 },
 "nbformat": 4,
 "nbformat_minor": 2
}
