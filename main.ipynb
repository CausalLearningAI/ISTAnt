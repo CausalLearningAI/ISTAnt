{
 "cells": [
  {
   "cell_type": "code",
   "execution_count": null,
   "metadata": {},
   "outputs": [],
   "source": [
    "import sys\n",
    "sys.path.append('./src')\n",
    "import warnings\n",
    "warnings.filterwarnings(\"ignore\")\n",
    "\n",
    "from data import PPCI"
   ]
  },
  {
   "cell_type": "code",
   "execution_count": null,
   "metadata": {},
   "outputs": [],
   "source": [
    "# load dataset\n",
    "encoder = \"dino\"\n",
    "dataset = PPCI(encoder = encoder,\n",
    "               token = \"class\",\n",
    "               task = \"or\",\n",
    "               split_criteria = \"position_easy\",\n",
    "               environment = \"supervised\",\n",
    "               batch_size = 64,\n",
    "               num_proc = 4,\n",
    "               verbose = True,\n",
    "               data_dir = 'data/istant_hq',\n",
    "               results_dir = f'results/istant_hq/{encoder}')"
   ]
  },
  {
   "cell_type": "code",
   "execution_count": null,
   "metadata": {},
   "outputs": [],
   "source": [
    "# example train\n",
    "dataset.train(add_pred_env=\"supervised\", \n",
    "            hidden_layers = 1,\n",
    "            hidden_nodes = 256,\n",
    "            batch_size = 128,\n",
    "            lr = 0.0005,\n",
    "            num_epochs=5,\n",
    "            save = False,\n",
    "            verbose=True,\n",
    "            multidomain=True,\n",
    "            ic_weight=0,\n",
    "            seed=1)\n",
    "dataset.evaluate(color=None, verbose=False)"
   ]
  }
 ],
 "metadata": {
  "kernelspec": {
   "display_name": "crl",
   "language": "python",
   "name": "python3"
  },
  "language_info": {
   "codemirror_mode": {
    "name": "ipython",
    "version": 3
   },
   "file_extension": ".py",
   "mimetype": "text/x-python",
   "name": "python",
   "nbconvert_exporter": "python",
   "pygments_lexer": "ipython3",
   "version": "3.11.5"
  }
 },
 "nbformat": 4,
 "nbformat_minor": 2
}
