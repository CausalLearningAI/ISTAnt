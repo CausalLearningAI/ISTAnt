{
 "cells": [
  {
   "cell_type": "code",
   "execution_count": null,
   "metadata": {},
   "outputs": [],
   "source": [
    "import torch\n",
    "import pandas as pd\n",
    "import matplotlib.pyplot as plt\n",
    "\n",
    "import sys\n",
    "sys.path.append('./src')\n",
    "import warnings\n",
    "warnings.filterwarnings(\"ignore\")\n",
    "\n",
    "from data import load_data, get_data_sl, get_data_cl\n",
    "from visualize import plot_outcome_distribution, visualize_examples\n",
    "from model import get_model\n",
    "from causal import compute_ate\n",
    "from train import train_model"
   ]
  },
  {
   "cell_type": "markdown",
   "metadata": {},
   "source": [
    "## Load Data"
   ]
  },
  {
   "cell_type": "code",
   "execution_count": null,
   "metadata": {},
   "outputs": [],
   "source": [
    "supervised = load_data(environment='supervised')\n",
    "unsupervised = load_data(environment='unsupervised')"
   ]
  },
  {
   "cell_type": "markdown",
   "metadata": {},
   "source": [
    "### Sanity Check"
   ]
  },
  {
   "cell_type": "code",
   "execution_count": null,
   "metadata": {},
   "outputs": [],
   "source": [
    "encoder_name = \"vit\"\n",
    "processor, model = get_model(encoder_name)"
   ]
  },
  {
   "cell_type": "code",
   "execution_count": null,
   "metadata": {},
   "outputs": [],
   "source": [
    "idx = 15000\n",
    "img = supervised[idx]['image']\n",
    "outcome = supervised[idx]['outcome']\n",
    "inputs = processor(images=img, return_tensors=\"pt\")\n",
    "outputs = model(**inputs)\n",
    "logits = outputs.logits\n",
    "print(\"Top 5 predicted labels with associated probabilities:\")\n",
    "top_5 = torch.topk(logits, 5)\n",
    "probs = logits.softmax(-1)[0][top_5.indices][0]\n",
    "for i, (idx, prob) in enumerate(zip(top_5.indices[0], probs), 1):\n",
    "    print(f\"    {i}. {model.config.id2label[idx.item()]}: {prob.item():.2%}\")\n",
    "\n",
    "img = img.permute(1, 2, 0)\n",
    "plt.title(f\"Y2F: {int(outcome[0])}, B2F: {int(outcome[1])}\")\n",
    "plt.imshow(img);"
   ]
  },
  {
   "cell_type": "code",
   "execution_count": null,
   "metadata": {},
   "outputs": [],
   "source": [
    "inputs = processor(images=img, return_tensors=\"pt\")\n",
    "outputs = model(**inputs, output_hidden_states=True)\n",
    "outputs.hidden_states[-1][:,0].shape\n",
    "# outputs.hidden_states[-1].mean(dim=[2,3]).shape"
   ]
  },
  {
   "cell_type": "markdown",
   "metadata": {},
   "source": [
    "## Supervised Learning"
   ]
  },
  {
   "cell_type": "code",
   "execution_count": null,
   "metadata": {},
   "outputs": [],
   "source": [
    "X, y, split = get_data_sl(environment=\"supervised\", \n",
    "                          encoder_name=\"dino\",\n",
    "                          task=\"or\", \n",
    "                          split_criteria=\"experiment_easy\", \n",
    "                          token=\"mean\")"
   ]
  },
  {
   "cell_type": "code",
   "execution_count": null,
   "metadata": {},
   "outputs": [],
   "source": [
    "model = train_model(X, y,  \n",
    "                    split=split,\n",
    "                    batch_size=256, \n",
    "                    num_epochs=10, \n",
    "                    lr=0.01, \n",
    "                    verbose=True)\n",
    "y_probs = model.probs(X.to(model.device)).to(\"cpu\")\n",
    "y_pred = model.pred(X.to(model.device)).to(\"cpu\")"
   ]
  },
  {
   "cell_type": "code",
   "execution_count": null,
   "metadata": {},
   "outputs": [],
   "source": [
    "exp = (supervised[\"experiment\"]==4)\n",
    "pos = (supervised[\"position\"]==1)\n",
    "filter = (exp & pos).nonzero().squeeze()\n",
    "y_probs[filter].detach()\n",
    "\n",
    "plt.scatter(range(len(filter)), y_probs[filter].detach(), s=1, c=\"blue\", alpha=0.5, label=\"y_probs\")\n",
    "plt.scatter(range(len(filter)), y_pred[filter].detach()-(-1)**y_pred[filter].detach()*0.04, s=1, c=\"red\", alpha=0.5, label=\"y_pred\")\n",
    "plt.scatter(range(len(filter)), y[filter].detach()-(-1)**y[filter].detach()*0.02, s=1, c=\"green\", alpha=0.5, label=\"y\")\n",
    "plt.legend()\n",
    "plt.show()"
   ]
  },
  {
   "cell_type": "code",
   "execution_count": null,
   "metadata": {},
   "outputs": [],
   "source": [
    "frame = (supervised[\"frame\"]==2220)\n",
    "idx = (exp & pos & frame).nonzero().item()\n",
    "img = supervised[idx][\"image\"]\n",
    "outcome = supervised[idx][\"outcome\"]\n",
    "\n",
    "img = img.permute(1, 2, 0)\n",
    "plt.title(f\"Y2F: {int(outcome[0])}, B2F: {int(outcome[1])}\")\n",
    "plt.imshow(img);"
   ]
  },
  {
   "cell_type": "code",
   "execution_count": null,
   "metadata": {},
   "outputs": [],
   "source": [
    "visualize_examples(n=36,\n",
    "                   encoder_name=\"dino\", \n",
    "                   model=model, \n",
    "                   save=True, \n",
    "                   data_dir=\"./data\",\n",
    "                   results_dir=\"./results\")"
   ]
  },
  {
   "cell_type": "markdown",
   "metadata": {},
   "source": [
    "#### Results Finetuning\n",
    "\n",
    "- **Encoder**: mae, vit_large\n",
    "- **Token**: not clear\n",
    "- **Task**: all\n",
    "- **Learning Rate**: not clear"
   ]
  },
  {
   "cell_type": "code",
   "execution_count": null,
   "metadata": {},
   "outputs": [],
   "source": [
    "results = pd.read_csv(\"results/head_training_results.csv\", index_col=0)\n",
    "results = results.dropna()\n",
    "results = results.set_index([\"encoder\", \"token\", \"task\", \"lr\", \"seed\"])\n",
    "results = results.groupby([\"encoder\", \"token\",\"task\", \"lr\"]).mean()\n",
    "results = results.sort_values(\"val_accuracy\", ascending=False)\n",
    "results = results.xs(\"all\", level=\"task\")\n",
    "results.head(20)"
   ]
  },
  {
   "cell_type": "markdown",
   "metadata": {},
   "source": [
    "## Causal Inference"
   ]
  },
  {
   "cell_type": "code",
   "execution_count": null,
   "metadata": {},
   "outputs": [],
   "source": [
    "supervised = load_data(environment='supervised')\n",
    "plot_outcome_distribution(supervised, save=True)"
   ]
  },
  {
   "cell_type": "code",
   "execution_count": null,
   "metadata": {},
   "outputs": [],
   "source": [
    "Y, T, X = get_data_cl(aggregate=True)\n",
    "methods = [\"ead\", \"aipw\", \"slearner\", \"tlearner\", \"xlearner\", \"drlearner\", \"causalforest\"]\n",
    "results = pd.DataFrame(columns=[\"ATE_B_blue\", \"ATE_inf_blue\", \"ATE_B_yellow\", \"ATE_inf_yellow\"], index=methods)\n",
    "for method in methods:\n",
    "    ATE_B_yellow, ATE_inf_yellow = compute_ate(Y, T, X, color=\"yellow\", method=method, verbose=False)   \n",
    "    ATE_B_blue, ATE_inf_blue = compute_ate(Y, T, X, color=\"blue\", method=method, verbose=False)  \n",
    "    results.loc[method] = [ATE_B_blue, ATE_inf_blue, ATE_B_yellow, ATE_inf_yellow]\n",
    "results"
   ]
  }
 ],
 "metadata": {
  "kernelspec": {
   "display_name": "crl",
   "language": "python",
   "name": "python3"
  },
  "language_info": {
   "codemirror_mode": {
    "name": "ipython",
    "version": 3
   },
   "file_extension": ".py",
   "mimetype": "text/x-python",
   "name": "python",
   "nbconvert_exporter": "python",
   "pygments_lexer": "ipython3",
   "version": "3.11.5"
  }
 },
 "nbformat": 4,
 "nbformat_minor": 2
}
